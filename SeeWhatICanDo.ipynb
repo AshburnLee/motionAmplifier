{
 "cells": [
  {
   "cell_type": "markdown",
   "metadata": {},
   "source": [
    "# See what i can do\n",
    "\n",
    "This is the implementation of motion amplifier.\n",
    "Before doing that, you need to be able to read videos to images and vise versa.\n",
    "\n",
    "The first thing that need to do is read video to frames,\n",
    "then apply operations, any operations you like to the, to frames.\n",
    "The last thing to do is construct frames into a vdeo.\n",
    "\n",
    "- *manipulate_videos_with_opencv.ipynb* shows basic use of Opencv.\n",
    "- *frame2video.py* shows how to construct a video using existing frames.\n",
    "\n",
    "To be continue..."
   ]
  },
  {
   "cell_type": "code",
   "execution_count": 53,
   "metadata": {},
   "outputs": [],
   "source": [
    "import cv2\n",
    "import numpy as np\n",
    "import os\n",
    "import re\n",
    "from utility import sortFrameName\n",
    "from utility import cvtStr2Int"
   ]
  },
  {
   "cell_type": "code",
   "execution_count": 54,
   "metadata": {},
   "outputs": [],
   "source": [
    "# Read file name into a list\n",
    "\n",
    "images = []\n",
    "filePath = './video2frame/'\n",
    "\n",
    "for f in os.listdir(filePath):\n",
    "    if f.endswith('.jpeg'):\n",
    "        images.append(f)"
   ]
  },
  {
   "cell_type": "code",
   "execution_count": 55,
   "metadata": {},
   "outputs": [],
   "source": [
    "# sort the files and pick the needed\n",
    "tmp = [cvtStr2Int(i) for i in images]\n",
    "tmp.sort()\n",
    "need = tmp[70:371]"
   ]
  },
  {
   "cell_type": "code",
   "execution_count": 56,
   "metadata": {},
   "outputs": [],
   "source": [
    "# reconstruct file names\n",
    "pickedFrame = []\n",
    "for i in need:\n",
    "    seq = ['frame', str(i), '.jpeg']\n",
    "    pickedFrame.append(\"\".join(seq))"
   ]
  },
  {
   "cell_type": "code",
   "execution_count": 57,
   "metadata": {},
   "outputs": [],
   "source": [
    "# get the wisth and height of frames\n",
    "imgPath = os.path.join(filePath, pickedFrame[0])\n",
    "sample = cv2.imread(imgPath)\n",
    "width, height, channels = sample.shape"
   ]
  },
  {
   "cell_type": "code",
   "execution_count": 58,
   "metadata": {},
   "outputs": [
    {
     "data": {
      "text/plain": [
       "(1080, 1920, 3)"
      ]
     },
     "execution_count": 58,
     "metadata": {},
     "output_type": "execute_result"
    }
   ],
   "source": [
    "width,height, channels"
   ]
  },
  {
   "cell_type": "code",
   "execution_count": 59,
   "metadata": {},
   "outputs": [],
   "source": [
    "fourcc = cv2.VideoWriter_fourcc(*'XVID') # fourCC save video as .avi format !!!\n",
    "out = cv2.VideoWriter('./slice.avi', fourcc, 20.0, (640, 480))"
   ]
  },
  {
   "cell_type": "code",
   "execution_count": 60,
   "metadata": {},
   "outputs": [],
   "source": [
    "# Show frame by frame\n",
    "for image in pickedFrame:\n",
    "\n",
    "    image_path = os.path.join(filePath, image)\n",
    "    frame = cv2.imread(image_path)\n",
    "\n",
    "    out.write(frame) # Write out frame to video\n",
    "\n",
    "    cv2.imshow('video',frame)\n",
    "    if (cv2.waitKey(1) & 0xFF) == ord('q'): # Hit `q` to exit\n",
    "        break\n",
    "\n",
    "# Release everything if job is finished\n",
    "out.release()\n",
    "cv2.destroyAllWindows()"
   ]
  },
  {
   "cell_type": "code",
   "execution_count": null,
   "metadata": {
    "collapsed": true
   },
   "outputs": [],
   "source": []
  },
  {
   "cell_type": "code",
   "execution_count": null,
   "metadata": {
    "collapsed": true
   },
   "outputs": [],
   "source": []
  },
  {
   "cell_type": "code",
   "execution_count": null,
   "metadata": {
    "collapsed": true
   },
   "outputs": [],
   "source": []
  },
  {
   "cell_type": "markdown",
   "metadata": {},
   "source": [
    "# TEST area"
   ]
  },
  {
   "cell_type": "code",
   "execution_count": 61,
   "metadata": {
    "collapsed": true
   },
   "outputs": [],
   "source": [
    "import argparse"
   ]
  },
  {
   "cell_type": "code",
   "execution_count": 62,
   "metadata": {
    "collapsed": true
   },
   "outputs": [],
   "source": [
    "\n"
   ]
  }
 ],
 "metadata": {
  "kernelspec": {
   "display_name": "Python 3",
   "language": "python",
   "name": "python3"
  },
  "language_info": {
   "codemirror_mode": {
    "name": "ipython",
    "version": 3
   },
   "file_extension": ".py",
   "mimetype": "text/x-python",
   "name": "python",
   "nbconvert_exporter": "python",
   "pygments_lexer": "ipython3",
   "version": "3.6.3"
  }
 },
 "nbformat": 4,
 "nbformat_minor": 2
}
